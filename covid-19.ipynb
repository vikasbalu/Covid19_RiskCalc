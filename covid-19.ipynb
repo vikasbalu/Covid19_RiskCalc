{
 "cells": [
  {
   "cell_type": "code",
   "execution_count": 27,
   "metadata": {},
   "outputs": [],
   "source": [
    "import pandas as pd\n",
    "import numpy as np"
   ]
  },
  {
   "cell_type": "code",
   "execution_count": 29,
   "metadata": {},
   "outputs": [],
   "source": [
    "covid = pd.read_csv('Covid.csv')"
   ]
  },
  {
   "cell_type": "code",
   "execution_count": 30,
   "metadata": {},
   "outputs": [
    {
     "name": "stdout",
     "output_type": "stream",
     "text": [
      "<class 'pandas.core.frame.DataFrame'>\n",
      "RangeIndex: 5434 entries, 0 to 5433\n",
      "Data columns (total 21 columns):\n",
      "Breathing Problem                          5434 non-null object\n",
      "Fever                                      5434 non-null object\n",
      "Dry Cough                                  5434 non-null object\n",
      "Sore throat                                5434 non-null object\n",
      "Running Nose                               5434 non-null object\n",
      "Asthma                                     5434 non-null object\n",
      "Chronic Lung Disease                       5434 non-null object\n",
      "Headache                                   5434 non-null object\n",
      "Heart Disease                              5434 non-null object\n",
      "Diabetes                                   5434 non-null object\n",
      "Hyper Tension                              5434 non-null object\n",
      "Fatigue                                    5434 non-null object\n",
      "Gastrointestinal                           5434 non-null object\n",
      "Abroad travel                              5434 non-null object\n",
      "Contact with COVID Patient                 5434 non-null object\n",
      "Attended Large Gathering                   5434 non-null object\n",
      "Visited Public Exposed Places              5434 non-null object\n",
      "Family working in Public Exposed Places    5434 non-null object\n",
      "Wearing Masks                              5434 non-null object\n",
      "Sanitization from Market                   5434 non-null object\n",
      "COVID-19                                   5434 non-null object\n",
      "dtypes: object(21)\n",
      "memory usage: 891.6+ KB\n"
     ]
    }
   ],
   "source": [
    "covid.info()"
   ]
  },
  {
   "cell_type": "code",
   "execution_count": 32,
   "metadata": {},
   "outputs": [
    {
     "data": {
      "text/plain": [
       "Index(['Breathing Problem', 'Fever', 'Dry Cough', 'Sore throat',\n",
       "       'Running Nose', 'Asthma', 'Chronic Lung Disease', 'Headache',\n",
       "       'Heart Disease', 'Diabetes', 'Hyper Tension', 'Fatigue ',\n",
       "       'Gastrointestinal ', 'Abroad travel', 'Contact with COVID Patient',\n",
       "       'Attended Large Gathering', 'Visited Public Exposed Places',\n",
       "       'Family working in Public Exposed Places', 'Wearing Masks',\n",
       "       'Sanitization from Market', 'COVID-19'],\n",
       "      dtype='object')"
      ]
     },
     "execution_count": 32,
     "metadata": {},
     "output_type": "execute_result"
    }
   ],
   "source": [
    "covid.columns"
   ]
  },
  {
   "cell_type": "code",
   "execution_count": 33,
   "metadata": {},
   "outputs": [],
   "source": [
    "from sklearn.preprocessing import LabelEncoder\n",
    "e=LabelEncoder()"
   ]
  },
  {
   "cell_type": "code",
   "execution_count": 34,
   "metadata": {},
   "outputs": [],
   "source": [
    "covid['Breathing Problem']=e.fit_transform(covid['Breathing Problem'])\n",
    "covid['Fever']=e.fit_transform(covid['Fever'])\n",
    "covid['Dry Cough']=e.fit_transform(covid['Dry Cough'])\n",
    "covid['Sore throat']=e.fit_transform(covid['Sore throat'])\n",
    "covid['Running Nose']=e.fit_transform(covid['Running Nose'])\n",
    "covid['Asthma']=e.fit_transform(covid['Asthma'])\n",
    "covid['Chronic Lung Disease']=e.fit_transform(covid['Chronic Lung Disease'])\n",
    "covid['Headache']=e.fit_transform(covid['Headache'])\n",
    "covid['Heart Disease']=e.fit_transform(covid['Heart Disease'])\n",
    "covid['Diabetes']=e.fit_transform(covid['Diabetes'])\n",
    "covid['Hyper Tension']=e.fit_transform(covid['Hyper Tension'])\n",
    "covid['Abroad travel']=e.fit_transform(covid['Abroad travel'])\n",
    "covid['Contact with COVID Patient']=e.fit_transform(covid['Contact with COVID Patient'])\n",
    "covid['Attended Large Gathering']=e.fit_transform(covid['Attended Large Gathering'])\n",
    "covid['Visited Public Exposed Places']=e.fit_transform(covid['Visited Public Exposed Places'])\n",
    "covid['Family working in Public Exposed Places']=e.fit_transform(covid['Family working in Public Exposed Places'])\n",
    "covid['Wearing Masks']=e.fit_transform(covid['Wearing Masks'])\n",
    "covid['Sanitization from Market']=e.fit_transform(covid['Sanitization from Market'])\n",
    "covid['COVID-19']=e.fit_transform(covid['COVID-19'])\n",
    "covid['Dry Cough']=e.fit_transform(covid['Dry Cough'])\n",
    "covid['Sore throat']=e.fit_transform(covid['Sore throat'])\n",
    "covid['Gastrointestinal ']=e.fit_transform(covid['Gastrointestinal '])\n",
    "covid['Fatigue ']=e.fit_transform(covid['Fatigue '])"
   ]
  },
  {
   "cell_type": "code",
   "execution_count": 36,
   "metadata": {},
   "outputs": [],
   "source": [
    "covid=covid.drop('Running Nose',axis=1)\n",
    "covid=covid.drop('Chronic Lung Disease',axis=1)\n",
    "covid=covid.drop('Headache',axis=1)\n",
    "covid=covid.drop('Heart Disease',axis=1)\n",
    "covid=covid.drop('Diabetes',axis=1)\n",
    "covid=covid.drop('Gastrointestinal ',axis=1)\n",
    "covid=covid.drop('Wearing Masks',axis=1)\n",
    "covid=covid.drop('Sanitization from Market',axis=1)\n",
    "covid=covid.drop('Asthma',axis=1)"
   ]
  },
  {
   "cell_type": "code",
   "execution_count": 37,
   "metadata": {},
   "outputs": [],
   "source": [
    "covid=covid.drop('Fatigue ',axis=1)"
   ]
  },
  {
   "cell_type": "code",
   "execution_count": 38,
   "metadata": {},
   "outputs": [],
   "source": [
    "from sklearn.model_selection import train_test_split\n",
    "from sklearn import metrics\n",
    "from sklearn.metrics import accuracy_score"
   ]
  },
  {
   "cell_type": "code",
   "execution_count": 39,
   "metadata": {},
   "outputs": [],
   "source": [
    "x=covid.drop('COVID-19',axis=1)\n",
    "y=covid['COVID-19']\n",
    "                             "
   ]
  },
  {
   "cell_type": "code",
   "execution_count": 40,
   "metadata": {},
   "outputs": [],
   "source": [
    "x_train, x_test, y_train, y_test = train_test_split(x, y, test_size = 0.20)"
   ]
  },
  {
   "cell_type": "code",
   "execution_count": 41,
   "metadata": {},
   "outputs": [
    {
     "data": {
      "text/plain": [
       "97.42410303587856"
      ]
     },
     "execution_count": 41,
     "metadata": {},
     "output_type": "execute_result"
    }
   ],
   "source": [
    "from sklearn import tree\n",
    "t = tree.DecisionTreeClassifier()\n",
    "t.fit(x_train,y_train)\n",
    "y_pred = t.predict(x_test)\n",
    "#Score/Accuracy\n",
    "acc_decisiontree=t.score(x_test, y_test)*100\n",
    "acc_decisiontree"
   ]
  },
  {
   "cell_type": "code",
   "execution_count": null,
   "metadata": {},
   "outputs": [],
   "source": []
  }
 ],
 "metadata": {
  "kernelspec": {
   "display_name": "Python 3",
   "language": "python",
   "name": "python3"
  },
  "language_info": {
   "codemirror_mode": {
    "name": "ipython",
    "version": 3
   },
   "file_extension": ".py",
   "mimetype": "text/x-python",
   "name": "python",
   "nbconvert_exporter": "python",
   "pygments_lexer": "ipython3",
   "version": "3.7.4"
  }
 },
 "nbformat": 4,
 "nbformat_minor": 4
}
