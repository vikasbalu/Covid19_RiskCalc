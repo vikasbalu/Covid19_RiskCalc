{
 "cells": [
  {
   "cell_type": "code",
   "execution_count": 2,
   "metadata": {},
   "outputs": [],
   "source": [
    "import pandas as pd\n",
    "import pickle"
   ]
  },
  {
   "cell_type": "code",
   "execution_count": 3,
   "metadata": {},
   "outputs": [],
   "source": [
    "covid = pd.read_csv('Covid.csv')"
   ]
  },
  {
   "cell_type": "code",
   "execution_count": 4,
   "metadata": {},
   "outputs": [],
   "source": [
    "from sklearn.preprocessing import LabelEncoder\n",
    "e=LabelEncoder()"
   ]
  },
  {
   "cell_type": "code",
   "execution_count": 6,
   "metadata": {},
   "outputs": [
    {
     "data": {
      "text/plain": [
       "\"\\ncovid=covid.drop('Running Nose',axis=1)\\ncovid=covid.drop('Chronic Lung Disease',axis=1)\\ncovid=covid.drop('Headache',axis=1)\\ncovid=covid.drop('Heart Disease',axis=1)\\ncovid=covid.drop('Diabetes',axis=1)\\ncovid=covid.drop('Gastrointestinal ',axis=1)\\ncovid=covid.drop('Wearing Masks',axis=1)\\ncovid=covid.drop('Sanitization from Market',axis=1)\\ncovid=covid.drop('Asthma',axis=1)\\ncovid=covid.drop('Fatigue ',axis=1)\\ncovid=covid.drop('Breathing Problem',axis=1)\\ncovid=covid.drop('Fever',axis=1)\\ncovid=covid.drop('Dry Cough',axis=1)\\ncovid=covid.drop('',axis=1)\\ncovid=covid.drop('',axis=1)\\ncovid=covid.drop('',axis=1)\\ncovid=covid.drop('',axis=1)\\ncovid=covid.drop('',axis=1)\\n\""
      ]
     },
     "execution_count": 6,
     "metadata": {},
     "output_type": "execute_result"
    }
   ],
   "source": [
    "covid['Breathing Problem']=e.fit_transform(covid['Breathing Problem'])\n",
    "covid['Fever']=e.fit_transform(covid['Fever'])\n",
    "covid['Dry Cough']=e.fit_transform(covid['Dry Cough'])\n",
    "covid['Sore throat']=e.fit_transform(covid['Sore throat'])\n",
    "covid['Running Nose']=e.fit_transform(covid['Running Nose'])\n",
    "covid['Asthma']=e.fit_transform(covid['Asthma'])\n",
    "covid['Chronic Lung Disease']=e.fit_transform(covid['Chronic Lung Disease'])\n",
    "covid['Headache']=e.fit_transform(covid['Headache'])\n",
    "covid['Heart Disease']=e.fit_transform(covid['Heart Disease'])\n",
    "covid['Diabetes']=e.fit_transform(covid['Diabetes'])\n",
    "covid['Hyper Tension']=e.fit_transform(covid['Hyper Tension'])\n",
    "covid['Abroad travel']=e.fit_transform(covid['Abroad travel'])\n",
    "covid['Contact with COVID Patient']=e.fit_transform(covid['Contact with COVID Patient'])\n",
    "covid['Attended Large Gathering']=e.fit_transform(covid['Attended Large Gathering'])\n",
    "covid['Visited Public Exposed Places']=e.fit_transform(covid['Visited Public Exposed Places'])\n",
    "covid['Family working in Public Exposed Places']=e.fit_transform(covid['Family working in Public Exposed Places'])\n",
    "covid['Wearing Masks']=e.fit_transform(covid['Wearing Masks'])\n",
    "covid['Sanitization from Market']=e.fit_transform(covid['Sanitization from Market'])\n",
    "covid['COVID-19']=e.fit_transform(covid['COVID-19'])\n",
    "covid['Dry Cough']=e.fit_transform(covid['Dry Cough'])\n",
    "covid['Sore throat']=e.fit_transform(covid['Sore throat'])\n",
    "covid['Gastrointestinal ']=e.fit_transform(covid['Gastrointestinal '])\n",
    "covid['Fatigue ']=e.fit_transform(covid['Fatigue '])\n",
    "\n",
    "'''\n",
    "covid=covid.drop('Running Nose',axis=1)\n",
    "covid=covid.drop('Chronic Lung Disease',axis=1)\n",
    "covid=covid.drop('Headache',axis=1)\n",
    "covid=covid.drop('Heart Disease',axis=1)\n",
    "covid=covid.drop('Diabetes',axis=1)\n",
    "covid=covid.drop('Gastrointestinal ',axis=1)\n",
    "covid=covid.drop('Wearing Masks',axis=1)\n",
    "covid=covid.drop('Sanitization from Market',axis=1)\n",
    "covid=covid.drop('Asthma',axis=1)\n",
    "covid=covid.drop('Fatigue ',axis=1)\n",
    "covid=covid.drop('Breathing Problem',axis=1)\n",
    "covid=covid.drop('Fever',axis=1)\n",
    "covid=covid.drop('Dry Cough',axis=1)\n",
    "covid=covid.drop('',axis=1)\n",
    "covid=covid.drop('',axis=1)\n",
    "covid=covid.drop('',axis=1)\n",
    "covid=covid.drop('',axis=1)\n",
    "covid=covid.drop('',axis=1)\n",
    "'''"
   ]
  },
  {
   "cell_type": "code",
   "execution_count": 7,
   "metadata": {},
   "outputs": [],
   "source": [
    "from sklearn.model_selection import train_test_split\n",
    "from sklearn import metrics\n",
    "from sklearn.metrics import accuracy_score"
   ]
  },
  {
   "cell_type": "code",
   "execution_count": 8,
   "metadata": {},
   "outputs": [],
   "source": [
    "x=covid.drop('COVID-19',axis=1)\n",
    "y=covid['COVID-19']"
   ]
  },
  {
   "cell_type": "code",
   "execution_count": 9,
   "metadata": {},
   "outputs": [],
   "source": [
    "x_train, x_test, y_train, y_test = train_test_split(x, y, test_size = 0.20)"
   ]
  },
  {
   "cell_type": "code",
   "execution_count": 12,
   "metadata": {},
   "outputs": [
    {
     "data": {
      "text/plain": [
       "98.06807727690892"
      ]
     },
     "execution_count": 12,
     "metadata": {},
     "output_type": "execute_result"
    }
   ],
   "source": [
    "from sklearn import tree\n",
    "t = tree.DecisionTreeClassifier()\n",
    "dt=t.fit(x_train,y_train)\n",
    "y_pred = t.predict(x_test)\n",
    "#Score/Accuracy\n",
    "acc_decisiontree=t.score(x_test, y_test)*100\n",
    "acc_decisiontree"
   ]
  },
  {
   "cell_type": "code",
   "execution_count": 13,
   "metadata": {},
   "outputs": [
    {
     "data": {
      "text/plain": [
       "array([1, 0, 0, ..., 1, 1, 1])"
      ]
     },
     "execution_count": 13,
     "metadata": {},
     "output_type": "execute_result"
    }
   ],
   "source": [
    "y_pred"
   ]
  },
  {
   "cell_type": "code",
   "execution_count": 14,
   "metadata": {},
   "outputs": [
    {
     "data": {
      "text/plain": [
       "DecisionTreeClassifier(class_weight=None, criterion='gini', max_depth=None,\n",
       "                       max_features=None, max_leaf_nodes=None,\n",
       "                       min_impurity_decrease=0.0, min_impurity_split=None,\n",
       "                       min_samples_leaf=1, min_samples_split=2,\n",
       "                       min_weight_fraction_leaf=0.0, presort=False,\n",
       "                       random_state=None, splitter='best')"
      ]
     },
     "execution_count": 14,
     "metadata": {},
     "output_type": "execute_result"
    }
   ],
   "source": [
    "dt"
   ]
  },
  {
   "cell_type": "code",
   "execution_count": null,
   "metadata": {},
   "outputs": [],
   "source": []
  }
 ],
 "metadata": {
  "kernelspec": {
   "display_name": "Python 3",
   "language": "python",
   "name": "python3"
  },
  "language_info": {
   "codemirror_mode": {
    "name": "ipython",
    "version": 3
   },
   "file_extension": ".py",
   "mimetype": "text/x-python",
   "name": "python",
   "nbconvert_exporter": "python",
   "pygments_lexer": "ipython3",
   "version": "3.7.4"
  }
 },
 "nbformat": 4,
 "nbformat_minor": 2
}
